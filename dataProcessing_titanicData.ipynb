{
 "cells": [
  {
   "cell_type": "markdown",
   "metadata": {},
   "source": [
    "# Titanic Data"
   ]
  },
  {
   "cell_type": "code",
   "execution_count": 1,
   "metadata": {},
   "outputs": [],
   "source": [
    "import numpy as np\n",
    "import pandas as pd\n",
    "import re"
   ]
  },
  {
   "cell_type": "code",
   "execution_count": 2,
   "metadata": {},
   "outputs": [],
   "source": [
    "from sklearn import preprocessing \n",
    "from sklearn.impute import SimpleImputer, KNNImputer"
   ]
  },
  {
   "cell_type": "markdown",
   "metadata": {},
   "source": [
    "### Setting the Seed"
   ]
  },
  {
   "cell_type": "code",
   "execution_count": 3,
   "metadata": {},
   "outputs": [],
   "source": [
    "theSeed = np.random.randint(100,500)"
   ]
  },
  {
   "cell_type": "markdown",
   "metadata": {},
   "source": [
    "### Read Data"
   ]
  },
  {
   "cell_type": "code",
   "execution_count": 4,
   "metadata": {},
   "outputs": [],
   "source": [
    "dataPath = \"/Users/nururrahman//Desktop/allDesktop/MacBookDesktop/DataScience/project_Kaggle/titanic/\"\n",
    "dataFile = \"data_titanic.csv\""
   ]
  },
  {
   "cell_type": "code",
   "execution_count": 5,
   "metadata": {},
   "outputs": [],
   "source": [
    "df = pd.read_csv( dataPath + dataFile)"
   ]
  },
  {
   "cell_type": "markdown",
   "metadata": {},
   "source": [
    "### Process Data"
   ]
  },
  {
   "cell_type": "code",
   "execution_count": 6,
   "metadata": {},
   "outputs": [],
   "source": [
    "LastName = [ (x.split(\",\")[0].strip()) for x in df.Name.tolist() ]\n",
    "NameLength = [ len(x) for x in df.Name.tolist() ]\n",
    "Title = [ (x.split(\",\")[1].strip()).split(\" \")[0] for x in df.Name.tolist() ]"
   ]
  },
  {
   "cell_type": "code",
   "execution_count": 7,
   "metadata": {},
   "outputs": [
    {
     "data": {
      "text/plain": [
       "array(['Capt.', 'Col.', 'Don.', 'Dona.', 'Dr.', 'Jonkheer.', 'Lady.',\n",
       "       'Major.', 'Master.', 'Miss.', 'Mlle.', 'Mme.', 'Mr.', 'Mrs.',\n",
       "       'Ms.', 'Rev.', 'Sir.', 'the'], dtype='<U9')"
      ]
     },
     "execution_count": 7,
     "metadata": {},
     "output_type": "execute_result"
    }
   ],
   "source": [
    "np.unique( np.array(Title) )"
   ]
  },
  {
   "cell_type": "code",
   "execution_count": 8,
   "metadata": {},
   "outputs": [],
   "source": [
    "#ind = np.where(\"the\"==np.array(Title))\n",
    "#df.iloc[ind[0], ]"
   ]
  },
  {
   "cell_type": "code",
   "execution_count": 9,
   "metadata": {},
   "outputs": [],
   "source": [
    "#ind = np.where(\"Jonkheer.\"==np.array(Title))\n",
    "#df.iloc[ind[0], ]"
   ]
  },
  {
   "cell_type": "markdown",
   "metadata": {},
   "source": [
    "#### GroupBy Features to Find Extreme Groups"
   ]
  },
  {
   "cell_type": "code",
   "execution_count": 10,
   "metadata": {},
   "outputs": [],
   "source": [
    "df['LastName'] = np.array(LastName)\n",
    "df['NameLength'] = np.array(NameLength)\n",
    "df['Title'] = np.array(Title)"
   ]
  },
  {
   "cell_type": "code",
   "execution_count": 11,
   "metadata": {},
   "outputs": [],
   "source": [
    "#df.groupby('Title').size()"
   ]
  },
  {
   "cell_type": "markdown",
   "metadata": {},
   "source": [
    "#### Clean Data "
   ]
  },
  {
   "cell_type": "code",
   "execution_count": 12,
   "metadata": {},
   "outputs": [],
   "source": [
    "ind = np.where(\"the\" == np.array(Title))\n",
    "#print( ind[0] )\n",
    "Title[ ind[0][0] ] = \"Countess.\""
   ]
  },
  {
   "cell_type": "code",
   "execution_count": 13,
   "metadata": {},
   "outputs": [],
   "source": [
    "indList = []\n",
    "for title in [\"Capt.\",\"Col.\",\"Major.\"]:\n",
    "    ind = np.where(title == np.array(Title))\n",
    "    indList.extend( ind[0] )\n",
    "    #print(indList )\n",
    "for ind in indList: \n",
    "    Title[ ind ] = \"Army\""
   ]
  },
  {
   "cell_type": "code",
   "execution_count": 14,
   "metadata": {},
   "outputs": [],
   "source": [
    "indList = []\n",
    "for title in [\"Ms.\", \"Mlle.\"]:\n",
    "    ind = np.where(title == np.array(Title))\n",
    "    indList.extend( ind[0] )\n",
    "    #print(indList )\n",
    "for ind in indList: \n",
    "    Title[ ind ] = \"Miss.\""
   ]
  },
  {
   "cell_type": "code",
   "execution_count": 15,
   "metadata": {},
   "outputs": [],
   "source": [
    "indList = []\n",
    "for title in [\"Mme.\",\"Dona.\"]:\n",
    "    ind = np.where(title == np.array(Title))\n",
    "    indList.extend( ind[0] )\n",
    "    #print(indList )\n",
    "for ind in indList: \n",
    "    Title[ ind ] = \"Mrs.\""
   ]
  },
  {
   "cell_type": "code",
   "execution_count": 16,
   "metadata": {},
   "outputs": [],
   "source": [
    "indList = []\n",
    "for title in [\"Don.\"]:\n",
    "    ind = np.where(title == np.array(Title))\n",
    "    indList.extend( ind[0] )\n",
    "    #print(indList )\n",
    "for ind in indList: \n",
    "    Title[ ind ] = \"Mr.\""
   ]
  },
  {
   "cell_type": "code",
   "execution_count": 17,
   "metadata": {},
   "outputs": [
    {
     "data": {
      "text/plain": [
       "array(['Army', 'Countess.', 'Dr.', 'Jonkheer.', 'Lady.', 'Master.',\n",
       "       'Miss.', 'Mr.', 'Mrs.', 'Rev.', 'Sir.'], dtype='<U9')"
      ]
     },
     "execution_count": 17,
     "metadata": {},
     "output_type": "execute_result"
    }
   ],
   "source": [
    "np.unique( np.array(Title) )"
   ]
  },
  {
   "cell_type": "code",
   "execution_count": 18,
   "metadata": {},
   "outputs": [],
   "source": [
    "#df['Title'] = np.array(Title)\n",
    "#df.groupby('Title').size()"
   ]
  },
  {
   "cell_type": "code",
   "execution_count": 19,
   "metadata": {},
   "outputs": [],
   "source": [
    "#lenCat = df['Sex'].apply(lambda row: len(str(row)) )\n",
    "#print( lenCat.unique() )"
   ]
  },
  {
   "cell_type": "markdown",
   "metadata": {},
   "source": [
    "#### Check for Null Values"
   ]
  },
  {
   "cell_type": "code",
   "execution_count": 20,
   "metadata": {},
   "outputs": [
    {
     "data": {
      "text/plain": [
       "Pclass           0\n",
       "Survived         0\n",
       "Name             0\n",
       "Sex              0\n",
       "Age            263\n",
       "SibSp            0\n",
       "Parch            0\n",
       "Ticket           0\n",
       "Fare             1\n",
       "Cabin         1014\n",
       "Embarked         2\n",
       "Boat           823\n",
       "Body          1188\n",
       "Home.dest      564\n",
       "LastName         0\n",
       "NameLength       0\n",
       "Title            0\n",
       "dtype: int64"
      ]
     },
     "execution_count": 20,
     "metadata": {},
     "output_type": "execute_result"
    }
   ],
   "source": [
    "df.isnull().sum()"
   ]
  },
  {
   "cell_type": "markdown",
   "metadata": {},
   "source": [
    "#### Fill Null Values\n",
    "\n",
    "Categoroical Column : 'UNKNOWN'\n",
    "\n",
    "Numerical Column    : 'Median'"
   ]
  },
  {
   "cell_type": "code",
   "execution_count": 21,
   "metadata": {},
   "outputs": [],
   "source": [
    "S = df.isnull().sum() \n",
    "S = S[S.values>0] \n",
    "indexS = S.index.tolist()\n",
    "valueS = S.values.tolist()"
   ]
  },
  {
   "cell_type": "code",
   "execution_count": 22,
   "metadata": {},
   "outputs": [
    {
     "data": {
      "text/plain": [
       "[263, 1, 1014, 2, 823, 1188, 564]"
      ]
     },
     "execution_count": 22,
     "metadata": {},
     "output_type": "execute_result"
    }
   ],
   "source": [
    "indexS \n",
    "valueS"
   ]
  },
  {
   "cell_type": "code",
   "execution_count": 23,
   "metadata": {},
   "outputs": [],
   "source": [
    "for col in indexS:\n",
    "    if df[col].dtype == 'object':\n",
    "        df[col].fillna('UNKNOWN', inplace=True)\n",
    "    elif df[col].dtype == 'float':           \n",
    "        imputer = SimpleImputer(strategy='median')\n",
    "        imputed = imputer.fit_transform( df[[col]] )\n",
    "        df[col] = imputed"
   ]
  },
  {
   "cell_type": "code",
   "execution_count": 24,
   "metadata": {},
   "outputs": [
    {
     "data": {
      "text/plain": [
       "Pclass        0\n",
       "Survived      0\n",
       "Name          0\n",
       "Sex           0\n",
       "Age           0\n",
       "SibSp         0\n",
       "Parch         0\n",
       "Ticket        0\n",
       "Fare          0\n",
       "Cabin         0\n",
       "Embarked      0\n",
       "Boat          0\n",
       "Body          0\n",
       "Home.dest     0\n",
       "LastName      0\n",
       "NameLength    0\n",
       "Title         0\n",
       "dtype: int64"
      ]
     },
     "execution_count": 24,
     "metadata": {},
     "output_type": "execute_result"
    }
   ],
   "source": [
    "df.isnull().sum()"
   ]
  },
  {
   "cell_type": "code",
   "execution_count": 25,
   "metadata": {},
   "outputs": [],
   "source": [
    "df['Ticket']  = df.apply(lambda row: str(row.Ticket).replace(\" \", \"_\").replace(\".\",\"\").replace(\"/\",\"_\"), axis=1)\n",
    "df['Cabin']   = df.apply(lambda row: str(row.Cabin).replace(\" \", \"_\").replace(\".\",\"\").replace(\"/\",\"_\"), axis=1)\n",
    "df['Boat']    = df.apply(lambda row: str(row.Boat).replace(\" \", \"_\").replace(\".\",\"\").replace(\"/\",\"_\"), axis=1)\n",
    "df['LastName']= df.apply(lambda row: str(row.LastName).replace(\" \", \"_\"), axis=1)"
   ]
  },
  {
   "cell_type": "code",
   "execution_count": 26,
   "metadata": {},
   "outputs": [],
   "source": [
    "home_dest = [str(x).replace(\" \",\"\") for x in df[\"Home.dest\"].tolist()]\n",
    "df['HomeDest'] = np.array(home_dest)\n",
    "df['HomeDest'] = df.apply(lambda row: str(row.HomeDest).replace(\",\",\"_\").replace(\"/\",\"_\"), axis=1)"
   ]
  },
  {
   "cell_type": "markdown",
   "metadata": {},
   "source": [
    "#### Drop Un-Warranted Columns"
   ]
  },
  {
   "cell_type": "code",
   "execution_count": 27,
   "metadata": {},
   "outputs": [],
   "source": [
    "df = df.drop([\"Name\", \"Body\", \"Home.dest\"], axis=1)"
   ]
  },
  {
   "cell_type": "markdown",
   "metadata": {},
   "source": [
    "#### Shuffle Records Randomly "
   ]
  },
  {
   "cell_type": "code",
   "execution_count": 28,
   "metadata": {},
   "outputs": [],
   "source": [
    "df = df.sample(n=df.shape[0], replace=False).reset_index(drop=True)"
   ]
  },
  {
   "cell_type": "markdown",
   "metadata": {},
   "source": [
    "### Data in Original Format \n",
    "#### Do not Convert Object Type"
   ]
  },
  {
   "cell_type": "code",
   "execution_count": 29,
   "metadata": {},
   "outputs": [],
   "source": [
    "train_df    = df.sample(frac=0.75, replace=False, random_state=theSeed)\n",
    "train_index = train_df.index.tolist()\n",
    "test_df     = df[ ~df.index.isin(train_index) ]"
   ]
  },
  {
   "cell_type": "code",
   "execution_count": 30,
   "metadata": {},
   "outputs": [],
   "source": [
    "train_df = train_df.reset_index(drop=True)\n",
    "test_df  = test_df.reset_index(drop=True)"
   ]
  },
  {
   "cell_type": "code",
   "execution_count": 31,
   "metadata": {},
   "outputs": [],
   "source": [
    "train_test_original = (train_df, test_df)"
   ]
  },
  {
   "cell_type": "markdown",
   "metadata": {},
   "source": [
    "### OrdinalEncoder\n",
    "#### Convert Object Type to Integer Type "
   ]
  },
  {
   "cell_type": "code",
   "execution_count": 32,
   "metadata": {},
   "outputs": [],
   "source": [
    "def convertObjectType(feature, df):\n",
    "    \"\"\"\n",
    "        OrdinalEncoder: Convert Categorical Features of Object Type to Integer Type\n",
    "        Cabin & Embarked have Problematic Levels\n",
    "    \"\"\"\n",
    "    #df[ feature[0] ] = df.apply(lambda row: str(row.Cabin).replace(\" \",\"\"), axis=1)\n",
    "    #df[ feature[1] ] = df.apply(lambda row: str(row.Embarked).replace(\" \",\"\"), axis=1)\n",
    "    df[ feature[0] ] = df.loc[:,feature[0]].apply(lambda row: str(row).replace(\" \",\"\"))\n",
    "    df[ feature[1] ] = df.loc[:,feature[1]].apply(lambda row: str(row).replace(\" \",\"\"))\n",
    "    \n",
    "    catIndex = np.where(df.dtypes == np.object)[0]\n",
    "    \n",
    "    columns = []\n",
    "    for ind in catIndex:\n",
    "        label_encoder = preprocessing.LabelEncoder()\n",
    "        feature = label_encoder.fit_transform(df.iloc[:,ind])\n",
    "        columns.append(feature)\n",
    "        \n",
    "    d1 = df.drop( df.columns[catIndex], axis=1)\n",
    "    d2 = pd.DataFrame( np.column_stack( columns ), columns=df.columns[catIndex] )\n",
    "    dd = pd.concat([d1,d2], axis=1)\n",
    "    return dd"
   ]
  },
  {
   "cell_type": "code",
   "execution_count": 33,
   "metadata": {},
   "outputs": [],
   "source": [
    "feature = [\"Cabin\", \"Embarked\"]\n",
    "dat = convertObjectType(feature, df)"
   ]
  },
  {
   "cell_type": "code",
   "execution_count": 34,
   "metadata": {},
   "outputs": [],
   "source": [
    "train_df = dat.sample(frac=0.75, replace=False, random_state=None)\n",
    "train_index = train_df.index.tolist()\n",
    "test_df = dat[ ~dat.index.isin(train_index) ]"
   ]
  },
  {
   "cell_type": "code",
   "execution_count": 35,
   "metadata": {},
   "outputs": [],
   "source": [
    "train_df = train_df.reset_index(drop=True)\n",
    "test_df  = test_df.reset_index(drop=True)"
   ]
  },
  {
   "cell_type": "code",
   "execution_count": 36,
   "metadata": {},
   "outputs": [],
   "source": [
    "train_test_ordinal = (train_df, test_df)"
   ]
  },
  {
   "cell_type": "markdown",
   "metadata": {},
   "source": [
    "### OneHotEncoder \n",
    "#### Convert Object Type to Integer Type "
   ]
  },
  {
   "cell_type": "code",
   "execution_count": 37,
   "metadata": {},
   "outputs": [],
   "source": [
    "def convertObjectType(feature, df):\n",
    "    \"\"\"\n",
    "        OneHotEncoder : Convert Categorical Features of Object Type to Integer Type\n",
    "        Cabin & Embarked have Problematic Levels\n",
    "    \"\"\"\n",
    "\n",
    "    df[ feature[0] ] = df.loc[:,feature[0]].apply(lambda row: str(row).replace(\" \",\"\"))\n",
    "    df[ feature[1] ] = df.loc[:,feature[1]].apply(lambda row: str(row).replace(\" \",\"\"))\n",
    "    \n",
    "    catIndex = np.where(df.dtypes == np.object)[0]\n",
    "    df_cat   = df.iloc[:, catIndex]\n",
    "    #print(f\"Total catIndex : {len(catIndex)}\")\n",
    "\n",
    "    intIndex = np.where(df.dtypes == np.int)[0]\n",
    "    df_int   = df.iloc[:, intIndex]\n",
    "    #print(f\"Total intIndex : {len(intIndex)}\")\n",
    "\n",
    "    floatIndex = np.where(df.dtypes == np.float)[0]\n",
    "    df_float   = df.iloc[:, floatIndex]\n",
    "    #print(f\"Total intIndex : {len(floatIndex)}\")\n",
    "    \n",
    "    imputer = SimpleImputer(strategy='most_frequent')\n",
    "    imputed_int = imputer.fit_transform(df_int.values)\n",
    "    df_int = pd.DataFrame(imputed_int, columns=df_int.columns)\n",
    "\n",
    "    imputer = SimpleImputer(strategy='median')\n",
    "    imputed_float = imputer.fit_transform(df_float.values)\n",
    "    df_float = pd.DataFrame(imputed_float, columns=df_float.columns)\n",
    "\n",
    "    enc = preprocessing.OneHotEncoder(categories='auto', handle_unknown='ignore')\n",
    "    fit = enc.fit( df_cat.values )\n",
    "    trns= fit.transform( df_cat.values )\n",
    "    \n",
    "    colName = enc.get_feature_names( df_cat.columns.tolist() )\n",
    "    df_cat_trns = pd.DataFrame( trns.toarray(), columns=colName )\n",
    "    \n",
    "    dd = pd.concat([df_cat_trns, df_int, df_float], axis=1)\n",
    "    return dd"
   ]
  },
  {
   "cell_type": "code",
   "execution_count": 38,
   "metadata": {},
   "outputs": [],
   "source": [
    "X = df.drop('Survived', axis=1)\n",
    "Y = df[['Survived']]"
   ]
  },
  {
   "cell_type": "code",
   "execution_count": 39,
   "metadata": {},
   "outputs": [],
   "source": [
    "feature = [\"Cabin\", \"Embarked\"]\n",
    "X = convertObjectType(feature, X)\n",
    "dat = pd.concat([Y, X], axis=1)"
   ]
  },
  {
   "cell_type": "code",
   "execution_count": 40,
   "metadata": {},
   "outputs": [],
   "source": [
    "train_df = dat.sample(frac=0.75, replace=False, random_state=None)\n",
    "train_index = train_df.index.tolist()\n",
    "test_df = dat[ ~dat.index.isin(train_index) ]"
   ]
  },
  {
   "cell_type": "code",
   "execution_count": 41,
   "metadata": {},
   "outputs": [],
   "source": [
    "train_df = train_df.reset_index(drop=True)\n",
    "test_df  = test_df.reset_index(drop=True)"
   ]
  },
  {
   "cell_type": "code",
   "execution_count": 42,
   "metadata": {},
   "outputs": [],
   "source": [
    "train_test_onehot = (train_df, test_df)"
   ]
  }
 ],
 "metadata": {
  "kernelspec": {
   "display_name": "Python 3",
   "language": "python",
   "name": "python3"
  },
  "language_info": {
   "codemirror_mode": {
    "name": "ipython",
    "version": 3
   },
   "file_extension": ".py",
   "mimetype": "text/x-python",
   "name": "python",
   "nbconvert_exporter": "python",
   "pygments_lexer": "ipython3",
   "version": "3.9.9"
  }
 },
 "nbformat": 4,
 "nbformat_minor": 4
}
