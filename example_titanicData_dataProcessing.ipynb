{
 "cells": [
  {
   "cell_type": "markdown",
   "metadata": {},
   "source": [
    "# Data Processing : Titanic Data "
   ]
  },
  {
   "cell_type": "markdown",
   "metadata": {},
   "source": [
    "<img style=\"float: left; width: 400px;\" src=\"image_titanic_ship.png\">"
   ]
  },
  {
   "cell_type": "markdown",
   "metadata": {},
   "source": [
    "##  Overview\n",
    "\n",
    "The RMS Titanic was a British passenger liner. It sank in the North Atlantic Ocean on \n",
    "15 April 1912 after striking an iceberg during her maiden voyage from Southampton, UK, \n",
    "to New York City. Of the estimated 2,224 passengers and crew aboard, more than 1,500 died, \n",
    "making it one of the worst passenger ship disasters in history. \n",
    "\n",
    "1. https://en.wikipedia.org/wiki/Titanic\n",
    "2. https://en.wikipedia.org/wiki/Titanic#/media/File:RMS_Titanic_3.jpg\n",
    "\n",
    "Publicly available Titatnic dataset contains survival information about 1309 passengers. We \n",
    "will investigate the dataset with the use of the Python libraries including NumPy, \n",
    "Scipy, Pandas, Matplotlib, and Seaborn."
   ]
  },
  {
   "cell_type": "markdown",
   "metadata": {},
   "source": [
    "##  Dataset Information\n",
    "\n",
    "<img style=\"float: left; padding-bottom: 50px; \" src=\"image_titanic_data.png\" width=\"1000\" height=\"100\">\n",
    "\n",
    "\n",
    "#### Pclass: A proxy for socio-economic status (SES)\n",
    "\n",
    "1 = Upper class\n",
    "\n",
    "2 = Middle class\n",
    "\n",
    "3 = Lower class\n",
    "\n",
    "#### Survived : Indicator whhethher or not a passengers survived\n",
    "\n",
    "0 : No : Did not Survived \n",
    "\n",
    "1 : Yes: survived\n",
    "\n",
    "#### Name : Name of the passengers.Format : last name, first name\n",
    "\n",
    "\n",
    "#### Sex : Gender of passengers\n",
    "\n",
    "Category : female, male\n",
    "\n",
    "\n",
    "#### Age : Age is in years. \n",
    "\n",
    "Age is fractional if less than 1.\n",
    "\n",
    "#### SibSp : the count of siblings and spouse between 0 to 8\n",
    "\n",
    "The dataset defines family relations in the following way:\n",
    "\n",
    "Sibling = brother, sister, stepbrother, stepsister\n",
    "\n",
    "Spouse = husband, wife (mistresses and fiancés were ignored)\n",
    "\n",
    "#### ParCh : the count of parents and children between 0  to 9\n",
    "\n",
    "The dataset defines family relations in the following way:\n",
    "\n",
    "Parent = mother, father\n",
    "\n",
    "Child = daughter, son, stepdaughter, stepson\n",
    "\n",
    "Some children travelled only with a nanny, therefore parch=0 for them\n",
    "\n",
    "\n",
    "#### Ticket : Ticket  number\n",
    "\n",
    "#### Fare : Ticket price in British Pound\n",
    "\n",
    "#### Cabin : Cabin number \n",
    "\n",
    "#### Embarked :  The  place where the traveler got on-board the ship. \n",
    "\n",
    "There are three possible values for Embark \n",
    "\n",
    "Southampton (S): about 70% of the people boarded from Southampton\n",
    "\n",
    "Cherbourg   (C): about 20% boarded from Cherbourg\n",
    "\n",
    "Queenstown  (Q): the rest boarded from Queenstown\n",
    "\n",
    "\n",
    "#### Boat : Lifeboat (if survived)\n",
    "\n",
    "#### Body : Body number (if did not survive and body was recovered)\n",
    "\n",
    "#### Home.dest : Home/Destination of the passengers"
   ]
  },
  {
   "cell_type": "markdown",
   "metadata": {},
   "source": [
    "## Categorical Data Processing Steps\n",
    "\n",
    "Part 1: Read Final Clean Data\n",
    "\n",
    "Part 2: Process Categorical Data and Convert into Numerical\n",
    "\n",
    "Part 3: Create train, test split"
   ]
  },
  {
   "cell_type": "markdown",
   "metadata": {},
   "source": [
    "----------------"
   ]
  },
  {
   "cell_type": "markdown",
   "metadata": {},
   "source": [
    "##  Load Python Modules"
   ]
  },
  {
   "cell_type": "markdown",
   "metadata": {},
   "source": [
    "numpy,  pandas, re, scipy"
   ]
  },
  {
   "cell_type": "code",
   "execution_count": 1,
   "metadata": {},
   "outputs": [],
   "source": [
    "import numpy as np\n",
    "import pandas as pd\n",
    "import re\n",
    "import scipy"
   ]
  },
  {
   "cell_type": "code",
   "execution_count": 2,
   "metadata": {},
   "outputs": [],
   "source": [
    "from IPython import display"
   ]
  },
  {
   "cell_type": "markdown",
   "metadata": {},
   "source": [
    "sklearn modules"
   ]
  },
  {
   "cell_type": "code",
   "execution_count": 3,
   "metadata": {},
   "outputs": [],
   "source": [
    "from sklearn import preprocessing \n",
    "from sklearn.impute import SimpleImputer, KNNImputer"
   ]
  },
  {
   "cell_type": "markdown",
   "metadata": {},
   "source": [
    "-----------"
   ]
  },
  {
   "cell_type": "markdown",
   "metadata": {},
   "source": [
    "## Part 1: Read Data"
   ]
  },
  {
   "cell_type": "code",
   "execution_count": 4,
   "metadata": {},
   "outputs": [],
   "source": [
    "dataFile = \"data_titanic_final.csv\"\n",
    "df = pd.read_csv( dataFile )"
   ]
  },
  {
   "cell_type": "code",
   "execution_count": 5,
   "metadata": {},
   "outputs": [
    {
     "data": {
      "text/html": [
       "<div>\n",
       "<style scoped>\n",
       "    .dataframe tbody tr th:only-of-type {\n",
       "        vertical-align: middle;\n",
       "    }\n",
       "\n",
       "    .dataframe tbody tr th {\n",
       "        vertical-align: top;\n",
       "    }\n",
       "\n",
       "    .dataframe thead th {\n",
       "        text-align: right;\n",
       "    }\n",
       "</style>\n",
       "<table border=\"1\" class=\"dataframe\">\n",
       "  <thead>\n",
       "    <tr style=\"text-align: right;\">\n",
       "      <th></th>\n",
       "      <th>Pclass</th>\n",
       "      <th>Survived</th>\n",
       "      <th>Name</th>\n",
       "      <th>Sex</th>\n",
       "      <th>Age</th>\n",
       "      <th>SibSp</th>\n",
       "      <th>Parch</th>\n",
       "      <th>Ticket</th>\n",
       "      <th>Fare</th>\n",
       "      <th>Cabin</th>\n",
       "      <th>Embarked</th>\n",
       "      <th>Boat</th>\n",
       "      <th>HomeDest</th>\n",
       "      <th>LastName</th>\n",
       "      <th>Title</th>\n",
       "      <th>NameLength</th>\n",
       "      <th>FamilySize</th>\n",
       "    </tr>\n",
       "  </thead>\n",
       "  <tbody>\n",
       "    <tr>\n",
       "      <th>0</th>\n",
       "      <td>1</td>\n",
       "      <td>1</td>\n",
       "      <td>Allen, Miss. Elisabeth Walton</td>\n",
       "      <td>female</td>\n",
       "      <td>29.00</td>\n",
       "      <td>0</td>\n",
       "      <td>0</td>\n",
       "      <td>24160</td>\n",
       "      <td>211.3375</td>\n",
       "      <td>B5</td>\n",
       "      <td>S</td>\n",
       "      <td>2</td>\n",
       "      <td>StLouis_MO</td>\n",
       "      <td>Allen</td>\n",
       "      <td>Miss.</td>\n",
       "      <td>29</td>\n",
       "      <td>1</td>\n",
       "    </tr>\n",
       "    <tr>\n",
       "      <th>1</th>\n",
       "      <td>1</td>\n",
       "      <td>1</td>\n",
       "      <td>Allison, Master. Hudson Trevor</td>\n",
       "      <td>male</td>\n",
       "      <td>0.92</td>\n",
       "      <td>1</td>\n",
       "      <td>2</td>\n",
       "      <td>113781</td>\n",
       "      <td>151.5500</td>\n",
       "      <td>C22_C26</td>\n",
       "      <td>S</td>\n",
       "      <td>11</td>\n",
       "      <td>Montreal_PQ__Chesterville_ON</td>\n",
       "      <td>Allison</td>\n",
       "      <td>Master.</td>\n",
       "      <td>30</td>\n",
       "      <td>4</td>\n",
       "    </tr>\n",
       "  </tbody>\n",
       "</table>\n",
       "</div>"
      ],
      "text/plain": [
       "   Pclass  Survived                            Name     Sex    Age  SibSp  \\\n",
       "0       1         1   Allen, Miss. Elisabeth Walton  female  29.00      0   \n",
       "1       1         1  Allison, Master. Hudson Trevor    male   0.92      1   \n",
       "\n",
       "   Parch  Ticket      Fare    Cabin Embarked Boat  \\\n",
       "0      0   24160  211.3375       B5        S    2   \n",
       "1      2  113781  151.5500  C22_C26        S   11   \n",
       "\n",
       "                       HomeDest LastName    Title  NameLength  FamilySize  \n",
       "0                    StLouis_MO    Allen    Miss.          29           1  \n",
       "1  Montreal_PQ__Chesterville_ON  Allison  Master.          30           4  "
      ]
     },
     "execution_count": 5,
     "metadata": {},
     "output_type": "execute_result"
    }
   ],
   "source": [
    "df.head(2)"
   ]
  },
  {
   "cell_type": "code",
   "execution_count": 6,
   "metadata": {},
   "outputs": [],
   "source": [
    "# df.Cabin.unique()"
   ]
  },
  {
   "cell_type": "code",
   "execution_count": 7,
   "metadata": {},
   "outputs": [
    {
     "data": {
      "text/plain": [
       "array(['S', 'C', 'UNKNOWN', 'Q'], dtype=object)"
      ]
     },
     "execution_count": 7,
     "metadata": {},
     "output_type": "execute_result"
    }
   ],
   "source": [
    "df.Embarked.unique()"
   ]
  },
  {
   "cell_type": "markdown",
   "metadata": {},
   "source": [
    "-------------------"
   ]
  },
  {
   "cell_type": "markdown",
   "metadata": {},
   "source": [
    "## Part 2 : Process  Categorical Data for  ML  Modeling"
   ]
  },
  {
   "cell_type": "markdown",
   "metadata": {},
   "source": [
    "A random integer between 100 and 500"
   ]
  },
  {
   "cell_type": "code",
   "execution_count": 8,
   "metadata": {},
   "outputs": [],
   "source": [
    "theSeed = np.random.randint(100,500)"
   ]
  },
  {
   "cell_type": "markdown",
   "metadata": {},
   "source": [
    "### 2.1 : Data in Original Format : Do not Convert Object Type"
   ]
  },
  {
   "cell_type": "markdown",
   "metadata": {},
   "source": [
    "Training set : Choose a portion of the original data without replacement  \n",
    "\n",
    "'Portion' ranges from 0 to  1"
   ]
  },
  {
   "cell_type": "code",
   "execution_count": 9,
   "metadata": {},
   "outputs": [],
   "source": [
    "portion  = 0.75\n",
    "train_df = df.sample(frac=portion, replace=False, random_state=theSeed)"
   ]
  },
  {
   "cell_type": "code",
   "execution_count": 10,
   "metadata": {},
   "outputs": [
    {
     "data": {
      "text/html": [
       "<div>\n",
       "<style scoped>\n",
       "    .dataframe tbody tr th:only-of-type {\n",
       "        vertical-align: middle;\n",
       "    }\n",
       "\n",
       "    .dataframe tbody tr th {\n",
       "        vertical-align: top;\n",
       "    }\n",
       "\n",
       "    .dataframe thead th {\n",
       "        text-align: right;\n",
       "    }\n",
       "</style>\n",
       "<table border=\"1\" class=\"dataframe\">\n",
       "  <thead>\n",
       "    <tr style=\"text-align: right;\">\n",
       "      <th></th>\n",
       "      <th>Pclass</th>\n",
       "      <th>Survived</th>\n",
       "      <th>Name</th>\n",
       "      <th>Sex</th>\n",
       "      <th>Age</th>\n",
       "      <th>SibSp</th>\n",
       "      <th>Parch</th>\n",
       "      <th>Ticket</th>\n",
       "      <th>Fare</th>\n",
       "      <th>Cabin</th>\n",
       "      <th>Embarked</th>\n",
       "      <th>Boat</th>\n",
       "      <th>HomeDest</th>\n",
       "      <th>LastName</th>\n",
       "      <th>Title</th>\n",
       "      <th>NameLength</th>\n",
       "      <th>FamilySize</th>\n",
       "    </tr>\n",
       "  </thead>\n",
       "  <tbody>\n",
       "    <tr>\n",
       "      <th>872</th>\n",
       "      <td>3</td>\n",
       "      <td>1</td>\n",
       "      <td>Howard, Miss. May Elizabeth</td>\n",
       "      <td>female</td>\n",
       "      <td>28.0</td>\n",
       "      <td>0</td>\n",
       "      <td>0</td>\n",
       "      <td>A_2_39186</td>\n",
       "      <td>8.0500</td>\n",
       "      <td>UNKNOWN</td>\n",
       "      <td>S</td>\n",
       "      <td>C</td>\n",
       "      <td>UNKNOWN</td>\n",
       "      <td>Howard</td>\n",
       "      <td>Miss.</td>\n",
       "      <td>27</td>\n",
       "      <td>1</td>\n",
       "    </tr>\n",
       "    <tr>\n",
       "      <th>967</th>\n",
       "      <td>3</td>\n",
       "      <td>0</td>\n",
       "      <td>Lindblom, Miss. Augusta Charlotta</td>\n",
       "      <td>female</td>\n",
       "      <td>45.0</td>\n",
       "      <td>0</td>\n",
       "      <td>0</td>\n",
       "      <td>347073</td>\n",
       "      <td>7.7500</td>\n",
       "      <td>UNKNOWN</td>\n",
       "      <td>S</td>\n",
       "      <td>UNKNOWN</td>\n",
       "      <td>UNKNOWN</td>\n",
       "      <td>Lindblom</td>\n",
       "      <td>Miss.</td>\n",
       "      <td>33</td>\n",
       "      <td>1</td>\n",
       "    </tr>\n",
       "    <tr>\n",
       "      <th>511</th>\n",
       "      <td>2</td>\n",
       "      <td>0</td>\n",
       "      <td>Myles, Mr. Thomas Francis</td>\n",
       "      <td>male</td>\n",
       "      <td>62.0</td>\n",
       "      <td>0</td>\n",
       "      <td>0</td>\n",
       "      <td>240276</td>\n",
       "      <td>9.6875</td>\n",
       "      <td>UNKNOWN</td>\n",
       "      <td>Q</td>\n",
       "      <td>UNKNOWN</td>\n",
       "      <td>Cambridge_MA</td>\n",
       "      <td>Myles</td>\n",
       "      <td>Mr.</td>\n",
       "      <td>25</td>\n",
       "      <td>1</td>\n",
       "    </tr>\n",
       "  </tbody>\n",
       "</table>\n",
       "</div>"
      ],
      "text/plain": [
       "     Pclass  Survived                               Name     Sex   Age  SibSp  \\\n",
       "872       3         1        Howard, Miss. May Elizabeth  female  28.0      0   \n",
       "967       3         0  Lindblom, Miss. Augusta Charlotta  female  45.0      0   \n",
       "511       2         0          Myles, Mr. Thomas Francis    male  62.0      0   \n",
       "\n",
       "     Parch     Ticket    Fare    Cabin Embarked     Boat      HomeDest  \\\n",
       "872      0  A_2_39186  8.0500  UNKNOWN        S        C       UNKNOWN   \n",
       "967      0     347073  7.7500  UNKNOWN        S  UNKNOWN       UNKNOWN   \n",
       "511      0     240276  9.6875  UNKNOWN        Q  UNKNOWN  Cambridge_MA   \n",
       "\n",
       "     LastName  Title  NameLength  FamilySize  \n",
       "872    Howard  Miss.          27           1  \n",
       "967  Lindblom  Miss.          33           1  \n",
       "511     Myles    Mr.          25           1  "
      ]
     },
     "execution_count": 10,
     "metadata": {},
     "output_type": "execute_result"
    }
   ],
   "source": [
    "# Check train set\n",
    "train_df.head(3)"
   ]
  },
  {
   "cell_type": "markdown",
   "metadata": {},
   "source": [
    "Get the row indices of the training dataset"
   ]
  },
  {
   "cell_type": "code",
   "execution_count": 11,
   "metadata": {},
   "outputs": [],
   "source": [
    "train_index = train_df.index.tolist()"
   ]
  },
  {
   "cell_type": "markdown",
   "metadata": {},
   "source": [
    "Test set : Choose a portion of the original data that is not  included in the Training set "
   ]
  },
  {
   "cell_type": "code",
   "execution_count": 12,
   "metadata": {},
   "outputs": [],
   "source": [
    "test_df = df[ ~df.index.isin(train_index) ]"
   ]
  },
  {
   "cell_type": "code",
   "execution_count": 13,
   "metadata": {},
   "outputs": [
    {
     "data": {
      "text/html": [
       "<div>\n",
       "<style scoped>\n",
       "    .dataframe tbody tr th:only-of-type {\n",
       "        vertical-align: middle;\n",
       "    }\n",
       "\n",
       "    .dataframe tbody tr th {\n",
       "        vertical-align: top;\n",
       "    }\n",
       "\n",
       "    .dataframe thead th {\n",
       "        text-align: right;\n",
       "    }\n",
       "</style>\n",
       "<table border=\"1\" class=\"dataframe\">\n",
       "  <thead>\n",
       "    <tr style=\"text-align: right;\">\n",
       "      <th></th>\n",
       "      <th>Pclass</th>\n",
       "      <th>Survived</th>\n",
       "      <th>Name</th>\n",
       "      <th>Sex</th>\n",
       "      <th>Age</th>\n",
       "      <th>SibSp</th>\n",
       "      <th>Parch</th>\n",
       "      <th>Ticket</th>\n",
       "      <th>Fare</th>\n",
       "      <th>Cabin</th>\n",
       "      <th>Embarked</th>\n",
       "      <th>Boat</th>\n",
       "      <th>HomeDest</th>\n",
       "      <th>LastName</th>\n",
       "      <th>Title</th>\n",
       "      <th>NameLength</th>\n",
       "      <th>FamilySize</th>\n",
       "    </tr>\n",
       "  </thead>\n",
       "  <tbody>\n",
       "    <tr>\n",
       "      <th>1</th>\n",
       "      <td>1</td>\n",
       "      <td>1</td>\n",
       "      <td>Allison, Master. Hudson Trevor</td>\n",
       "      <td>male</td>\n",
       "      <td>0.92</td>\n",
       "      <td>1</td>\n",
       "      <td>2</td>\n",
       "      <td>113781</td>\n",
       "      <td>151.5500</td>\n",
       "      <td>C22_C26</td>\n",
       "      <td>S</td>\n",
       "      <td>11</td>\n",
       "      <td>Montreal_PQ__Chesterville_ON</td>\n",
       "      <td>Allison</td>\n",
       "      <td>Master.</td>\n",
       "      <td>30</td>\n",
       "      <td>4</td>\n",
       "    </tr>\n",
       "    <tr>\n",
       "      <th>13</th>\n",
       "      <td>1</td>\n",
       "      <td>1</td>\n",
       "      <td>Barber, Miss. Ellen \"Nellie\"</td>\n",
       "      <td>female</td>\n",
       "      <td>26.00</td>\n",
       "      <td>0</td>\n",
       "      <td>0</td>\n",
       "      <td>19877</td>\n",
       "      <td>78.8500</td>\n",
       "      <td>UNKNOWN</td>\n",
       "      <td>S</td>\n",
       "      <td>6</td>\n",
       "      <td>UNKNOWN</td>\n",
       "      <td>Barber</td>\n",
       "      <td>Miss.</td>\n",
       "      <td>28</td>\n",
       "      <td>1</td>\n",
       "    </tr>\n",
       "    <tr>\n",
       "      <th>16</th>\n",
       "      <td>1</td>\n",
       "      <td>0</td>\n",
       "      <td>Baxter, Mr. Quigg Edmond</td>\n",
       "      <td>male</td>\n",
       "      <td>24.00</td>\n",
       "      <td>0</td>\n",
       "      <td>1</td>\n",
       "      <td>PC_17558</td>\n",
       "      <td>247.5208</td>\n",
       "      <td>B58_B60</td>\n",
       "      <td>C</td>\n",
       "      <td>UNKNOWN</td>\n",
       "      <td>Montreal_PQ</td>\n",
       "      <td>Baxter</td>\n",
       "      <td>Mr.</td>\n",
       "      <td>24</td>\n",
       "      <td>2</td>\n",
       "    </tr>\n",
       "  </tbody>\n",
       "</table>\n",
       "</div>"
      ],
      "text/plain": [
       "    Pclass  Survived                            Name     Sex    Age  SibSp  \\\n",
       "1        1         1  Allison, Master. Hudson Trevor    male   0.92      1   \n",
       "13       1         1    Barber, Miss. Ellen \"Nellie\"  female  26.00      0   \n",
       "16       1         0        Baxter, Mr. Quigg Edmond    male  24.00      0   \n",
       "\n",
       "    Parch    Ticket      Fare    Cabin Embarked     Boat  \\\n",
       "1       2    113781  151.5500  C22_C26        S       11   \n",
       "13      0     19877   78.8500  UNKNOWN        S        6   \n",
       "16      1  PC_17558  247.5208  B58_B60        C  UNKNOWN   \n",
       "\n",
       "                        HomeDest LastName    Title  NameLength  FamilySize  \n",
       "1   Montreal_PQ__Chesterville_ON  Allison  Master.          30           4  \n",
       "13                       UNKNOWN   Barber    Miss.          28           1  \n",
       "16                   Montreal_PQ   Baxter      Mr.          24           2  "
      ]
     },
     "execution_count": 13,
     "metadata": {},
     "output_type": "execute_result"
    }
   ],
   "source": [
    "# Check test set \n",
    "test_df.head(3)"
   ]
  },
  {
   "cell_type": "markdown",
   "metadata": {},
   "source": [
    "The rows indices of Training and Test sets are messed up\n",
    "\n",
    "Reindex the rows to prettify the dataframes "
   ]
  },
  {
   "cell_type": "code",
   "execution_count": 14,
   "metadata": {},
   "outputs": [],
   "source": [
    "train_df = train_df.reset_index(drop=True)\n",
    "test_df  = test_df.reset_index(drop=True)"
   ]
  },
  {
   "cell_type": "code",
   "execution_count": 15,
   "metadata": {},
   "outputs": [],
   "source": [
    "# Check final row indices \n",
    "# train_df.head(3)\n",
    "# test_df.head(3)"
   ]
  },
  {
   "cell_type": "markdown",
   "metadata": {},
   "source": [
    "Collect Training and Test dataset as a tuple  "
   ]
  },
  {
   "cell_type": "code",
   "execution_count": 16,
   "metadata": {},
   "outputs": [],
   "source": [
    "train_test_original = (train_df, test_df)"
   ]
  },
  {
   "cell_type": "markdown",
   "metadata": {},
   "source": [
    "-----------------------------------------"
   ]
  },
  {
   "cell_type": "markdown",
   "metadata": {},
   "source": [
    "### 2.2 : Categorical Data  Converstion 1 \n",
    "#### OrdinalEncoder : Convert Object Type to Integer Type "
   ]
  },
  {
   "cell_type": "code",
   "execution_count": 17,
   "metadata": {},
   "outputs": [],
   "source": [
    "def convertObject_OrdinalEncoder(feature, df):\n",
    "    \"\"\"\n",
    "        OrdinalEncoder: Convert Categorical Features of Object Type to Integer Type\n",
    "        Cabin & Embarked have Problematic Levels\n",
    "    \"\"\"\n",
    "    #df[ feature[0] ] = df.apply(lambda row: str(row.Cabin).replace(\" \",\"\"), axis=1)\n",
    "    #df[ feature[1] ] = df.apply(lambda row: str(row.Embarked).replace(\" \",\"\"), axis=1)\n",
    "    df[ feature[0] ] = df.loc[:,feature[0]].apply(lambda row: str(row).replace(\" \",\"\"))\n",
    "    df[ feature[1] ] = df.loc[:,feature[1]].apply(lambda row: str(row).replace(\" \",\"\"))\n",
    "    \n",
    "    catIndex = np.where(df.dtypes == object)[0]\n",
    "    \n",
    "    columns = []\n",
    "    for ind in catIndex:\n",
    "        label_encoder = preprocessing.LabelEncoder()\n",
    "        feature = label_encoder.fit_transform(df.iloc[:,ind])\n",
    "        columns.append(feature)\n",
    "        \n",
    "    d1 = df.drop( df.columns[catIndex], axis=1)\n",
    "    d2 = pd.DataFrame( np.column_stack( columns ), columns=df.columns[catIndex] )\n",
    "    dd = pd.concat([d1,d2], axis=1)\n",
    "    \n",
    "    return dd"
   ]
  },
  {
   "cell_type": "code",
   "execution_count": 18,
   "metadata": {},
   "outputs": [],
   "source": [
    "feature = [\"Cabin\", \"Embarked\"]\n",
    "dat = convertObject_OrdinalEncoder(feature, df)"
   ]
  },
  {
   "cell_type": "code",
   "execution_count": 19,
   "metadata": {},
   "outputs": [],
   "source": [
    "train_df    = dat.sample(frac=0.75, replace=False, random_state=None)\n",
    "train_index = train_df.index.tolist()\n",
    "test_df     = dat[ ~dat.index.isin(train_index) ]"
   ]
  },
  {
   "cell_type": "code",
   "execution_count": 20,
   "metadata": {},
   "outputs": [],
   "source": [
    "train_df = train_df.reset_index(drop=True)\n",
    "test_df  = test_df.reset_index(drop=True)"
   ]
  },
  {
   "cell_type": "code",
   "execution_count": 21,
   "metadata": {},
   "outputs": [],
   "source": [
    "train_test_ordinal = (train_df, test_df)"
   ]
  },
  {
   "cell_type": "code",
   "execution_count": 22,
   "metadata": {},
   "outputs": [
    {
     "data": {
      "text/html": [
       "<div>\n",
       "<style scoped>\n",
       "    .dataframe tbody tr th:only-of-type {\n",
       "        vertical-align: middle;\n",
       "    }\n",
       "\n",
       "    .dataframe tbody tr th {\n",
       "        vertical-align: top;\n",
       "    }\n",
       "\n",
       "    .dataframe thead th {\n",
       "        text-align: right;\n",
       "    }\n",
       "</style>\n",
       "<table border=\"1\" class=\"dataframe\">\n",
       "  <thead>\n",
       "    <tr style=\"text-align: right;\">\n",
       "      <th></th>\n",
       "      <th>Pclass</th>\n",
       "      <th>Survived</th>\n",
       "      <th>Age</th>\n",
       "      <th>SibSp</th>\n",
       "      <th>Parch</th>\n",
       "      <th>Fare</th>\n",
       "      <th>NameLength</th>\n",
       "      <th>FamilySize</th>\n",
       "      <th>Name</th>\n",
       "      <th>Sex</th>\n",
       "      <th>Ticket</th>\n",
       "      <th>Cabin</th>\n",
       "      <th>Embarked</th>\n",
       "      <th>Boat</th>\n",
       "      <th>HomeDest</th>\n",
       "      <th>LastName</th>\n",
       "      <th>Title</th>\n",
       "    </tr>\n",
       "  </thead>\n",
       "  <tbody>\n",
       "    <tr>\n",
       "      <th>0</th>\n",
       "      <td>3</td>\n",
       "      <td>0</td>\n",
       "      <td>10.0</td>\n",
       "      <td>0</td>\n",
       "      <td>2</td>\n",
       "      <td>24.15</td>\n",
       "      <td>25</td>\n",
       "      <td>3</td>\n",
       "      <td>1206</td>\n",
       "      <td>0</td>\n",
       "      <td>425</td>\n",
       "      <td>186</td>\n",
       "      <td>2</td>\n",
       "      <td>27</td>\n",
       "      <td>340</td>\n",
       "      <td>811</td>\n",
       "      <td>6</td>\n",
       "    </tr>\n",
       "    <tr>\n",
       "      <th>1</th>\n",
       "      <td>2</td>\n",
       "      <td>0</td>\n",
       "      <td>18.0</td>\n",
       "      <td>0</td>\n",
       "      <td>0</td>\n",
       "      <td>73.50</td>\n",
       "      <td>25</td>\n",
       "      <td>1</td>\n",
       "      <td>306</td>\n",
       "      <td>1</td>\n",
       "      <td>862</td>\n",
       "      <td>186</td>\n",
       "      <td>2</td>\n",
       "      <td>27</td>\n",
       "      <td>216</td>\n",
       "      <td>195</td>\n",
       "      <td>7</td>\n",
       "    </tr>\n",
       "    <tr>\n",
       "      <th>2</th>\n",
       "      <td>3</td>\n",
       "      <td>0</td>\n",
       "      <td>30.0</td>\n",
       "      <td>0</td>\n",
       "      <td>0</td>\n",
       "      <td>8.05</td>\n",
       "      <td>29</td>\n",
       "      <td>1</td>\n",
       "      <td>1125</td>\n",
       "      <td>1</td>\n",
       "      <td>707</td>\n",
       "      <td>186</td>\n",
       "      <td>2</td>\n",
       "      <td>27</td>\n",
       "      <td>340</td>\n",
       "      <td>752</td>\n",
       "      <td>7</td>\n",
       "    </tr>\n",
       "  </tbody>\n",
       "</table>\n",
       "</div>"
      ],
      "text/plain": [
       "   Pclass  Survived   Age  SibSp  Parch   Fare  NameLength  FamilySize  Name  \\\n",
       "0       3         0  10.0      0      2  24.15          25           3  1206   \n",
       "1       2         0  18.0      0      0  73.50          25           1   306   \n",
       "2       3         0  30.0      0      0   8.05          29           1  1125   \n",
       "\n",
       "   Sex  Ticket  Cabin  Embarked  Boat  HomeDest  LastName  Title  \n",
       "0    0     425    186         2    27       340       811      6  \n",
       "1    1     862    186         2    27       216       195      7  \n",
       "2    1     707    186         2    27       340       752      7  "
      ]
     },
     "execution_count": 22,
     "metadata": {},
     "output_type": "execute_result"
    }
   ],
   "source": [
    "train_df.head(3)"
   ]
  },
  {
   "cell_type": "markdown",
   "metadata": {},
   "source": [
    "### 2.3 : Categorical  Data  Conversion 2\n",
    "\n",
    "#### OneHotEncoder : Convert Object Type to Integer Type "
   ]
  },
  {
   "cell_type": "code",
   "execution_count": 23,
   "metadata": {},
   "outputs": [],
   "source": [
    "def convertObject_OneHotEncoder(feature, df):\n",
    "    \"\"\"\n",
    "        OneHotEncoder : Convert Categorical Features of Object Type to Integer Type\n",
    "        Cabin & Embarked have Problematic Levels\n",
    "    \"\"\"\n",
    "\n",
    "    df[ feature[0] ] = df.loc[:,feature[0]].apply(lambda row: str(row).replace(\" \",\"\"))\n",
    "    df[ feature[1] ] = df.loc[:,feature[1]].apply(lambda row: str(row).replace(\" \",\"\"))\n",
    "    \n",
    "    catIndex = np.where(df.dtypes == object)[0]\n",
    "    df_cat   = df.iloc[:, catIndex]\n",
    "    #print(f\"Total catIndex : {len(catIndex)}\")\n",
    "\n",
    "    intIndex = np.where(df.dtypes == int)[0]\n",
    "    df_int   = df.iloc[:, intIndex]\n",
    "    #print(f\"Total intIndex : {len(intIndex)}\")\n",
    "\n",
    "    floatIndex = np.where(df.dtypes == float)[0]\n",
    "    df_float   = df.iloc[:, floatIndex]\n",
    "    #print(f\"Total intIndex : {len(floatIndex)}\")\n",
    "    \n",
    "    imputer = SimpleImputer(strategy='most_frequent')\n",
    "    imputed_int = imputer.fit_transform(df_int.values)\n",
    "    df_int = pd.DataFrame(imputed_int, columns=df_int.columns)\n",
    "\n",
    "    imputer = SimpleImputer(strategy='median')\n",
    "    imputed_float = imputer.fit_transform(df_float.values)\n",
    "    df_float = pd.DataFrame(imputed_float, columns=df_float.columns)\n",
    "\n",
    "    enc = preprocessing.OneHotEncoder(categories='auto', handle_unknown='ignore')\n",
    "    fit = enc.fit( df_cat.values )\n",
    "    trns= fit.transform( df_cat.values )\n",
    "    \n",
    "    colName = enc.get_feature_names_out( df_cat.columns.tolist() )\n",
    "    df_cat_trns = pd.DataFrame( trns.toarray(), columns=colName )\n",
    "    \n",
    "    dd = pd.concat([df_cat_trns, df_int, df_float], axis=1)\n",
    "    return dd"
   ]
  },
  {
   "cell_type": "code",
   "execution_count": 24,
   "metadata": {},
   "outputs": [],
   "source": [
    "X = df.drop(columns=['Survived'], axis=0)\n",
    "Y = df[['Survived']]"
   ]
  },
  {
   "cell_type": "code",
   "execution_count": 25,
   "metadata": {},
   "outputs": [],
   "source": [
    "feature = [\"Cabin\", \"Embarked\"]\n",
    "X = convertObject_OneHotEncoder(feature, X)\n",
    "dat = pd.concat([Y, X], axis=1)"
   ]
  },
  {
   "cell_type": "code",
   "execution_count": 26,
   "metadata": {},
   "outputs": [],
   "source": [
    "train_df = dat.sample(frac=0.75, replace=False, random_state=None)\n",
    "train_index = train_df.index.tolist()\n",
    "test_df = dat[ ~dat.index.isin(train_index) ]"
   ]
  },
  {
   "cell_type": "code",
   "execution_count": 27,
   "metadata": {},
   "outputs": [],
   "source": [
    "train_df = train_df.reset_index(drop=True)\n",
    "test_df  = test_df.reset_index(drop=True)"
   ]
  },
  {
   "cell_type": "code",
   "execution_count": 28,
   "metadata": {},
   "outputs": [],
   "source": [
    "train_test_onehot = (train_df, test_df)"
   ]
  },
  {
   "cell_type": "code",
   "execution_count": 29,
   "metadata": {},
   "outputs": [
    {
     "data": {
      "text/html": [
       "<div>\n",
       "<style scoped>\n",
       "    .dataframe tbody tr th:only-of-type {\n",
       "        vertical-align: middle;\n",
       "    }\n",
       "\n",
       "    .dataframe tbody tr th {\n",
       "        vertical-align: top;\n",
       "    }\n",
       "\n",
       "    .dataframe thead th {\n",
       "        text-align: right;\n",
       "    }\n",
       "</style>\n",
       "<table border=\"1\" class=\"dataframe\">\n",
       "  <thead>\n",
       "    <tr style=\"text-align: right;\">\n",
       "      <th></th>\n",
       "      <th>Survived</th>\n",
       "      <th>Name_Abbing, Mr. Anthony</th>\n",
       "      <th>Name_Abbott, Master. Eugene Joseph</th>\n",
       "      <th>Name_Abbott, Mr. Rossmore Edward</th>\n",
       "      <th>Name_Abbott, Mrs. Stanton (Rosa Hunt)</th>\n",
       "      <th>Name_Abelseth, Miss. Karen Marie</th>\n",
       "      <th>Name_Abelseth, Mr. Olaus Jorgensen</th>\n",
       "      <th>Name_Abelson, Mr. Samuel</th>\n",
       "      <th>Name_Abelson, Mrs. Samuel (Hannah Wizosky)</th>\n",
       "      <th>Name_Abrahamsson, Mr. Abraham August Johannes</th>\n",
       "      <th>...</th>\n",
       "      <th>Title_Mrs.</th>\n",
       "      <th>Title_Rev.</th>\n",
       "      <th>Title_Sir.</th>\n",
       "      <th>Pclass</th>\n",
       "      <th>SibSp</th>\n",
       "      <th>Parch</th>\n",
       "      <th>NameLength</th>\n",
       "      <th>FamilySize</th>\n",
       "      <th>Age</th>\n",
       "      <th>Fare</th>\n",
       "    </tr>\n",
       "  </thead>\n",
       "  <tbody>\n",
       "    <tr>\n",
       "      <th>0</th>\n",
       "      <td>0</td>\n",
       "      <td>0.0</td>\n",
       "      <td>0.0</td>\n",
       "      <td>0.0</td>\n",
       "      <td>0.0</td>\n",
       "      <td>0.0</td>\n",
       "      <td>0.0</td>\n",
       "      <td>0.0</td>\n",
       "      <td>0.0</td>\n",
       "      <td>0.0</td>\n",
       "      <td>...</td>\n",
       "      <td>0.0</td>\n",
       "      <td>0.0</td>\n",
       "      <td>0.0</td>\n",
       "      <td>3</td>\n",
       "      <td>0</td>\n",
       "      <td>0</td>\n",
       "      <td>20</td>\n",
       "      <td>1</td>\n",
       "      <td>24.0</td>\n",
       "      <td>7.2500</td>\n",
       "    </tr>\n",
       "    <tr>\n",
       "      <th>1</th>\n",
       "      <td>1</td>\n",
       "      <td>0.0</td>\n",
       "      <td>0.0</td>\n",
       "      <td>0.0</td>\n",
       "      <td>0.0</td>\n",
       "      <td>0.0</td>\n",
       "      <td>0.0</td>\n",
       "      <td>0.0</td>\n",
       "      <td>0.0</td>\n",
       "      <td>0.0</td>\n",
       "      <td>...</td>\n",
       "      <td>0.0</td>\n",
       "      <td>0.0</td>\n",
       "      <td>0.0</td>\n",
       "      <td>2</td>\n",
       "      <td>0</td>\n",
       "      <td>0</td>\n",
       "      <td>29</td>\n",
       "      <td>1</td>\n",
       "      <td>29.0</td>\n",
       "      <td>13.8583</td>\n",
       "    </tr>\n",
       "    <tr>\n",
       "      <th>2</th>\n",
       "      <td>1</td>\n",
       "      <td>0.0</td>\n",
       "      <td>0.0</td>\n",
       "      <td>0.0</td>\n",
       "      <td>0.0</td>\n",
       "      <td>0.0</td>\n",
       "      <td>0.0</td>\n",
       "      <td>0.0</td>\n",
       "      <td>0.0</td>\n",
       "      <td>0.0</td>\n",
       "      <td>...</td>\n",
       "      <td>0.0</td>\n",
       "      <td>0.0</td>\n",
       "      <td>0.0</td>\n",
       "      <td>3</td>\n",
       "      <td>1</td>\n",
       "      <td>0</td>\n",
       "      <td>36</td>\n",
       "      <td>2</td>\n",
       "      <td>36.5</td>\n",
       "      <td>17.4000</td>\n",
       "    </tr>\n",
       "  </tbody>\n",
       "</table>\n",
       "<p>3 rows × 3720 columns</p>\n",
       "</div>"
      ],
      "text/plain": [
       "   Survived  Name_Abbing, Mr. Anthony  Name_Abbott, Master. Eugene Joseph  \\\n",
       "0         0                       0.0                                 0.0   \n",
       "1         1                       0.0                                 0.0   \n",
       "2         1                       0.0                                 0.0   \n",
       "\n",
       "   Name_Abbott, Mr. Rossmore Edward  Name_Abbott, Mrs. Stanton (Rosa Hunt)  \\\n",
       "0                               0.0                                    0.0   \n",
       "1                               0.0                                    0.0   \n",
       "2                               0.0                                    0.0   \n",
       "\n",
       "   Name_Abelseth, Miss. Karen Marie  Name_Abelseth, Mr. Olaus Jorgensen  \\\n",
       "0                               0.0                                 0.0   \n",
       "1                               0.0                                 0.0   \n",
       "2                               0.0                                 0.0   \n",
       "\n",
       "   Name_Abelson, Mr. Samuel  Name_Abelson, Mrs. Samuel (Hannah Wizosky)  \\\n",
       "0                       0.0                                         0.0   \n",
       "1                       0.0                                         0.0   \n",
       "2                       0.0                                         0.0   \n",
       "\n",
       "   Name_Abrahamsson, Mr. Abraham August Johannes  ...  Title_Mrs.  Title_Rev.  \\\n",
       "0                                            0.0  ...         0.0         0.0   \n",
       "1                                            0.0  ...         0.0         0.0   \n",
       "2                                            0.0  ...         0.0         0.0   \n",
       "\n",
       "   Title_Sir.  Pclass  SibSp  Parch  NameLength  FamilySize   Age     Fare  \n",
       "0         0.0       3      0      0          20           1  24.0   7.2500  \n",
       "1         0.0       2      0      0          29           1  29.0  13.8583  \n",
       "2         0.0       3      1      0          36           2  36.5  17.4000  \n",
       "\n",
       "[3 rows x 3720 columns]"
      ]
     },
     "execution_count": 29,
     "metadata": {},
     "output_type": "execute_result"
    }
   ],
   "source": [
    "train_df.head(3)"
   ]
  }
 ],
 "metadata": {
  "kernelspec": {
   "display_name": "Python 3 (ipykernel)",
   "language": "python",
   "name": "python3"
  },
  "language_info": {
   "codemirror_mode": {
    "name": "ipython",
    "version": 3
   },
   "file_extension": ".py",
   "mimetype": "text/x-python",
   "name": "python",
   "nbconvert_exporter": "python",
   "pygments_lexer": "ipython3",
   "version": "3.10.8"
  }
 },
 "nbformat": 4,
 "nbformat_minor": 4
}
